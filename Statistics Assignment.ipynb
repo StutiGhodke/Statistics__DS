{
 "cells": [
  {
   "cell_type": "code",
   "execution_count": null,
   "id": "03deaaa5-b0d9-4ac1-98fc-a74779945a6a",
   "metadata": {},
   "outputs": [],
   "source": [
    "Q1\n",
    "Statistics is the process of collecting,organising and analysing the data"
   ]
  },
  {
   "cell_type": "code",
   "execution_count": null,
   "id": "03af2f54-a134-4af9-86e7-ccf63b16fa9a",
   "metadata": {},
   "outputs": [],
   "source": [
    " Q2\\\n",
    "1.Descriptive\n",
    "Organise and summarize the collected data.\n",
    "Used when we need to make a conclusion of a sample data.\\n\",\n",
    "2.Inferential\n",
    "Draw a conclusion from the collected and organised data.\\n\",\n",
    "Used when we need to make an inference about the population on basis of analaysed sample data."
   ]
  },
  {
   "cell_type": "code",
   "execution_count": null,
   "id": "1aeccd06-ff0a-4c58-9607-8c3363847b96",
   "metadata": {},
   "outputs": [],
   "source": [
    "Q3\n",
    "1.Quantitative--Numeric Data\n",
    "They are of two types-:\n",
    "a.Discrete\n",
    " Example-No of family members,No of cars in a parking\n",
    "b.Continuous\n",
    "Example-Height,Weight,Distance,Speed\n",
    "2.Qualitative--Categorical Data\n",
    "They are of two types-:\\n\",\n",
    "a.Nominal\n",
    " Example-Gender,Marital Status\n",
    "b.Ordinal\n",
    "Example-Temperature,Class Merit List"
   ]
  },
  {
   "cell_type": "code",
   "execution_count": null,
   "id": "4cdef124-be7c-43d2-96f5-2ad554f5053c",
   "metadata": {},
   "outputs": [],
   "source": [
    "Q4\n",
    "1.Qualitative--Ordinal\n",
    "2.Qualitative--Nominal\n",
    "3.Quantitative--Continuous\n",
    "4.Quantitative--Discret"
   ]
  },
  {
   "cell_type": "code",
   "execution_count": null,
   "id": "39482165-b33d-4ad8-ad40-fdb70fea36b4",
   "metadata": {},
   "outputs": [],
   "source": [
    " Q5\n",
    "1.Nominal Scale Data\\\n",
    "Categorical Data Variable\n",
    "Order doesn't matter\n",
    "Example-Gender,Colours\n",
    "2.Ordinal Scale Data\n",
    "Ranking and Order matter\n",
    "Difference cannot be measured\n",
    "Example-Graduation\n",
    "3 .Ratio Scale Data\n",
    "Rank and order matter\n",
    "Difference can be measured including ratio\n",
    "Example-Grades\n",
    "4.Interval Scale Data\n",
    "Rank and order matter\n",
    "Difference can be measured(excluding ratio)\n",
    "Does not have '0' starting value\n",
    "Example-Temperature"
   ]
  },
  {
   "cell_type": "code",
   "execution_count": null,
   "id": "fca91fec-d352-4a5e-aede-fd8700a2d31a",
   "metadata": {},
   "outputs": [],
   "source": [
    "Q6\n",
    "With the understanding of level of measurement we can easily analyse data on the bassis of data type."
   ]
  },
  {
   "cell_type": "code",
   "execution_count": null,
   "id": "48fe3e8f-7f95-4ab6-9e8f-7fab3e39fa8e",
   "metadata": {},
   "outputs": [],
   "source": [
    " Q7\n",
    "In Nominal data type the rank and order of data does not matter.\n",
    "Whereas in ordinal data the rank and order matters."
   ]
  },
  {
   "cell_type": "code",
   "execution_count": null,
   "id": "5e120b6d-cd8c-4e08-b5f2-8fcfb69dbb73",
   "metadata": {},
   "outputs": [],
   "source": [
    " Q8\n",
    "    Histogram"
   ]
  },
  {
   "cell_type": "code",
   "execution_count": null,
   "id": "60d01c5b-1983-4a73-b201-85844b760b95",
   "metadata": {},
   "outputs": [],
   "source": [
    " Q9\n",
    "Descriptive data gives summary of data whereas inferential statistics helps us draw results from a set of data."
   ]
  },
  {
   "cell_type": "code",
   "execution_count": null,
   "id": "e30aaac8-1505-4561-8158-ba4dfeb26989",
   "metadata": {},
   "outputs": [],
   "source": [
    "Q10\n",
    "Measures of Central Tendency-:\n",
    "1.Mean\n",
    "Average of the data\n",
    "2.Mode\n",
    " Quanitity appearing maximum number of times\n",
    "3.Median\n",
    "Middle element of sorted data\n",
    "Measures of Dispersion-:\n",
    "1.Variance\n",
    "Spread of data\n",
    "2.Standard Deviation\n",
    "Deviation of data from mean value "
   ]
  }
 ],
 "metadata": {
  "kernelspec": {
   "display_name": "Python 3 (ipykernel)",
   "language": "python",
   "name": "python3"
  },
  "language_info": {
   "codemirror_mode": {
    "name": "ipython",
    "version": 3
   },
   "file_extension": ".py",
   "mimetype": "text/x-python",
   "name": "python",
   "nbconvert_exporter": "python",
   "pygments_lexer": "ipython3",
   "version": "3.10.8"
  }
 },
 "nbformat": 4,
 "nbformat_minor": 5
}
